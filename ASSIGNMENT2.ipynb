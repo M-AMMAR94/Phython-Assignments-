{
 "cells": [
  {
   "cell_type": "markdown",
   "id": "e4879718",
   "metadata": {},
   "source": [
    " Input marks of 5 subjects and decide whether the student passed (must score >33 in all) and their average percentage."
   ]
  },
  {
   "cell_type": "code",
   "execution_count": 3,
   "id": "eacebfc6",
   "metadata": {},
   "outputs": [
    {
     "name": "stdout",
     "output_type": "stream",
     "text": [
      "90.0 in math\n",
      "98.0 in comp\n",
      "89.0 in english\n",
      "97.0 in urdu\n",
      "87.0 in physics\n",
      "pass in all subject\n",
      "Total marks=461.0\n",
      "avg_percentage=92.2\n"
     ]
    }
   ],
   "source": [
    "subject=[\"math\",\"comp\",\"english\",\"urdu\",\"physics\"]\n",
    "marks=[]\n",
    "for i in subject:\n",
    "    mark = float(input(f\"Enter marks for subject {i}: \"))\n",
    "    marks.append(mark)\n",
    "    print(f\"{mark} in {i}\")\n",
    "\n",
    "\n",
    "if all(i > 33 for i in marks):\n",
    "        print(\"pass in all subject\")\n",
    "else:\n",
    "        print(\"fail in one or more subjects\")\n",
    "\n",
    "total_mark=0\n",
    "for i in marks:\n",
    "       total_mark=i+total_mark\n",
    "print(f\"Total marks={total_mark}\")\n",
    "\n",
    "avg_percentage=total_mark/5\n",
    "print(f\"avg_percentage={avg_percentage}\")\n",
    "       "
   ]
  },
  {
   "cell_type": "markdown",
   "id": "e210ceec",
   "metadata": {},
   "source": [
    "Write a program to determine if a triangle is equilateral, isosceles, or scalene based on user input sides.\n"
   ]
  },
  {
   "cell_type": "code",
   "execution_count": 7,
   "id": "b4a1f8ea",
   "metadata": {},
   "outputs": [
    {
     "name": "stdout",
     "output_type": "stream",
     "text": [
      "The triangle is Isosceles.\n"
     ]
    }
   ],
   "source": [
    "\n",
    "a = float(input(\"Enter length of side a: \"))\n",
    "b = float(input(\"Enter length of side b: \"))\n",
    "c = float(input(\"Enter length of side c: \"))\n",
    "\n",
    "if a + b > c and a + c > b and b + c > a:\n",
    "    if a == b == c:\n",
    "        print(\"The triangle is Equilateral.\")\n",
    "    elif a == b or b == c or a == c:\n",
    "        print(\"The triangle is Isosceles.\")\n",
    "    else:\n",
    "        print(\"The triangle is Scalene.\")\n",
    "else:\n",
    "    print(\"The entered sides do not form a valid triangle.\")\n"
   ]
  },
  {
   "cell_type": "markdown",
   "id": "f3a2e379",
   "metadata": {},
   "source": [
    "Count the frequency of characters in a string using a dictionary."
   ]
  },
  {
   "cell_type": "code",
   "execution_count": 1,
   "id": "4dfefd67",
   "metadata": {},
   "outputs": [
    {
     "name": "stdout",
     "output_type": "stream",
     "text": [
      "{'s': 1, 'c': 1, 'h': 1, 'o': 2, 'l': 1}\n"
     ]
    }
   ],
   "source": [
    "text = input(\"Enter a string: \")\n",
    "char_freq = {}\n",
    "\n",
    "for char in text:\n",
    "    if char in char_freq:\n",
    "        char_freq[char] += 1\n",
    "    else:\n",
    "        char_freq[char] = 1\n",
    "\n",
    "print(char_freq)\n",
    "\n"
   ]
  },
  {
   "cell_type": "markdown",
   "id": "84354db7",
   "metadata": {},
   "source": [
    "Convert two lists into a dictionary (one list of keys, one list of values).\n"
   ]
  },
  {
   "cell_type": "code",
   "execution_count": 3,
   "id": "b661bb28",
   "metadata": {},
   "outputs": [
    {
     "name": "stdout",
     "output_type": "stream",
     "text": [
      "{'name': 'Ahmed', 'class': 7, 'age': 13}\n"
     ]
    }
   ],
   "source": [
    "\n",
    "\n",
    "key = [\"name\", \"class\", \"age\"]\n",
    "value = [\"Ahmed\", 7, 13]\n",
    "\n",
    "result = dict(zip(key,value))\n",
    "\n",
    "print(result)\n"
   ]
  },
  {
   "cell_type": "markdown",
   "id": "f2efc34a",
   "metadata": {},
   "source": [
    ". Try converting a string to an integer and catch any value error if it fails. "
   ]
  },
  {
   "cell_type": "code",
   "execution_count": 5,
   "id": "44a2a5a3",
   "metadata": {},
   "outputs": [
    {
     "name": "stdout",
     "output_type": "stream",
     "text": [
      "Invalid input! That is not a valid integer.\n"
     ]
    }
   ],
   "source": [
    "user_input = input(\"Enter a number: \")\n",
    "\n",
    "try:\n",
    "    number = int(user_input)\n",
    "    print(f\"You entered the number: {number}\")\n",
    "except ValueError:\n",
    "    print(\"Invalid input! That is not a valid integer.\")\n"
   ]
  },
  {
   "cell_type": "markdown",
   "id": "535aaea6",
   "metadata": {},
   "source": [
    "Handle a key error while accessing a non-existent key from a dictionary. "
   ]
  },
  {
   "cell_type": "code",
   "execution_count": 9,
   "id": "c9e4321a",
   "metadata": {},
   "outputs": [
    {
     "name": "stdout",
     "output_type": "stream",
     "text": [
      "KeyError: The key ''section'' is missing.\n"
     ]
    }
   ],
   "source": [
    "dic={\"Name\":\"Ahmad\",\"class\":8,\"age\":13}\n",
    "try :\n",
    "    print(dic[\"section\"])\n",
    "except KeyError as e:\n",
    "    print(f\"KeyError: The key '{e}' is missing.\")\n"
   ]
  },
  {
   "cell_type": "markdown",
   "id": "9be66406",
   "metadata": {},
   "source": [
    " Use a try-except-finally block to open a file, read its contents, and close the file (even if an error occurs).\n"
   ]
  },
  {
   "cell_type": "code",
   "execution_count": 1,
   "id": "3fa705fb",
   "metadata": {},
   "outputs": [
    {
     "name": "stdout",
     "output_type": "stream",
     "text": [
      "This file does not exist.\n",
      "File was never opened, so nothing to close.\n"
     ]
    }
   ],
   "source": [
    "try:\n",
    "    file = open(\"python.txt\", 'r')\n",
    "    file.read()\n",
    "except:\n",
    "    print(\"This file does not exist.\")\n",
    "finally:\n",
    "    try:\n",
    "        file.close()\n",
    "        print(\"File closed.\")\n",
    "    except:\n",
    "        print(\"File was never opened, so nothing to close.\")\n"
   ]
  },
  {
   "cell_type": "markdown",
   "id": "b25e22fd",
   "metadata": {},
   "source": [
    "Nest multiple try-except blocks to handle file read and data conversion."
   ]
  },
  {
   "cell_type": "code",
   "execution_count": null,
   "id": "3933e1bf",
   "metadata": {},
   "outputs": [],
   "source": [
    "try:\n",
    "    file = open(\"data.txt\", \"r\")  \n",
    "    try:\n",
    "        content = file.read()\n",
    "        number = int(content)     \n",
    "        print(\"Converted number:\", number)\n",
    "    except ValueError:\n",
    "        print(\"Cannot convert content to integer.\")\n",
    "    finally:\n",
    "        file.close()\n",
    "        print(\"File closed.\")\n",
    "except FileNotFoundError:\n",
    "    print(\"The file was not found.\")\n"
   ]
  }
 ],
 "metadata": {
  "kernelspec": {
   "display_name": "Python 3",
   "language": "python",
   "name": "python3"
  },
  "language_info": {
   "codemirror_mode": {
    "name": "ipython",
    "version": 3
   },
   "file_extension": ".py",
   "mimetype": "text/x-python",
   "name": "python",
   "nbconvert_exporter": "python",
   "pygments_lexer": "ipython3",
   "version": "3.13.3"
  }
 },
 "nbformat": 4,
 "nbformat_minor": 5
}
