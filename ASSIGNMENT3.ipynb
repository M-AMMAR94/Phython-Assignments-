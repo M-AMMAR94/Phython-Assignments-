{
 "cells": [
  {
   "cell_type": "markdown",
   "id": "e852dcf1",
   "metadata": {},
   "source": [
    "1. Encapsulation:\n",
    "    Create a class OnlineOrder with the following:\n",
    "    Private attributes: __order_id, __items (list), __status (pending, shipped, delivered)\n",
    "    Public methods:\n",
    "    add_item(item_name)\n",
    "    remove_item(item_name)\n",
    "    update_status(new_status) — only allow valid statuses\n",
    "    get_order_summary() — return order ID, items, and status"
   ]
  },
  {
   "cell_type": "code",
   "execution_count": 11,
   "id": "98df46a6",
   "metadata": {},
   "outputs": [],
   "source": [
    "class OnlineOrder:\n",
    "    def __init__(self, order_id):\n",
    "        self.__order_id = order_id\n",
    "        self.__items = []                    \n",
    "        self.__status = \"pending\"              \n",
    "        self.__valid_statuses = [\"pending\", \"shipped\", \"delivered\"]  \n",
    "\n",
    "    def add_item(self, item_name):\n",
    "        self.__items.append(item_name)\n",
    "\n",
    "\n",
    "    def remove_item(self, item_name):\n",
    "        if item_name in self.__items:\n",
    "            self.__items.remove(item_name)\n",
    "        else:\n",
    "            print(f\"{item_name} not found in order.\")\n",
    "\n",
    "    def update_status(self, new_status):\n",
    "        if new_status in self.__valid_statuses:\n",
    "            self.__status = new_status\n",
    "        else:\n",
    "            print(\"Invalid status. Use: pending, shipped, or delivered.\")\n",
    "\n",
    "    \n",
    "    def get_order_summary(self):\n",
    "        return {\n",
    "            \"Order ID\": self.__order_id,\n",
    "            \"Items\": self.__items,\n",
    "            \"Status\": self.__status\n",
    "        }\n"
   ]
  },
  {
   "cell_type": "markdown",
   "id": "90c34d05",
   "metadata": {},
   "source": [
    "2. Inheritance:\n",
    "\n",
    "    Create a base class Employee with attributes like name, id, and a method get_details().\n",
    "    Inherit it in:\n",
    "    Manager class: add team_size\n",
    "    Developer class: add programming_language\n",
    "    Override get_details() in both subclasses to include their specific details."
   ]
  },
  {
   "cell_type": "code",
   "execution_count": 4,
   "id": "e2ca3395",
   "metadata": {},
   "outputs": [
    {
     "name": "stdout",
     "output_type": "stream",
     "text": [
      "Name:Ahmed,id:4323, Team Size: 40\n",
      "Name: Ahsan, ID: 5433, Language: 7\n"
     ]
    }
   ],
   "source": [
    "class Employee:\n",
    "    def __init__(self, name, id):\n",
    "        self.name=name\n",
    "        self.id=id\n",
    "\n",
    "    def get_details(self):\n",
    "        return f\"Name:{self.name},id:{self.id}\"\n",
    "    \n",
    "class Manager(Employee):\n",
    "    def __init__(self, name, id,team_size):\n",
    "        super().__init__(name,id)\n",
    "        self.team_size = team_size\n",
    "\n",
    "    def get_details(self):\n",
    "        return f\"Name:{self.name},id:{self.id}, Team Size: {self.team_size}\"\n",
    "    \n",
    "\n",
    "class Dveloper(Employee):\n",
    "    def __init__(self, name, id,programming_language):\n",
    "        super().__init__(name,id)\n",
    "        self.programming_language = programming_language\n",
    "\n",
    "    def get_details(self):\n",
    "        return f\"Name: {self.name}, ID: {self.id}, Language: {self.programming_language}\"\n",
    "    \n",
    "e1=Manager(\"Ahmed\",4323,40)\n",
    "e2=Dveloper(\"Ahsan\",5433,7)\n",
    "\n",
    "print(e1.get_details())\n",
    "print(e2.get_details())\n"
   ]
  },
  {
   "cell_type": "markdown",
   "id": "4cbb5f1e",
   "metadata": {},
   "source": [
    "  Create a MessageSender class with a method send(). Inherit it in EmailSender and SMSSender and override send(). Use a loop to call send() on different objects."
   ]
  },
  {
   "cell_type": "code",
   "execution_count": 10,
   "id": "b25a2bbe",
   "metadata": {},
   "outputs": [
    {
     "name": "stdout",
     "output_type": "stream",
     "text": [
      "Sending an Email...\n",
      "Sending an SMS...\n",
      "Sending an Email...\n"
     ]
    }
   ],
   "source": [
    "class MessageSender:\n",
    "    def send(self):\n",
    "        print(\"Sending a message...\")\n",
    "\n",
    "class EmailSender(MessageSender):\n",
    "     def send(self):\n",
    "           print(\"Sending an Email...\")\n",
    "\n",
    "class SMSSender(MessageSender):\n",
    "     def send(self):\n",
    "          print(\"Sending an SMS...\")\n",
    "\n",
    "\n",
    "senders = [EmailSender(), SMSSender(), EmailSender()]\n",
    "\n",
    "for sender in senders:\n",
    "    sender.send()\n"
   ]
  },
  {
   "cell_type": "markdown",
   "id": "c8ea3d17",
   "metadata": {},
   "source": [
    " Abstraction:\n",
    "\n",
    "    Create an abstract class Appliance with:\n",
    "    Abstract method: turn_on()\n",
    "    Abstract method: turn_off()\n",
    "\n",
    "    Then create two classes:\n",
    "    WashingMachine\n",
    "    Microwave\n",
    "    Each class should implement the turn_on() and turn_off() methods differently (e.g., display specific messages like \"Washing clothes...\" or \"Heating food...\").\n"
   ]
  },
  {
   "cell_type": "code",
   "execution_count": 12,
   "id": "f423fb59",
   "metadata": {},
   "outputs": [
    {
     "name": "stdout",
     "output_type": "stream",
     "text": [
      "Washing machine is now ON. Washing clothes...\n",
      "Washing machine is now OFF.\n",
      "Microwave is now ON. Heating food...\n",
      "Microwave is now OFF.\n"
     ]
    }
   ],
   "source": [
    "from abc import ABC, abstractmethod\n",
    "\n",
    "class Appliance(ABC):\n",
    "\n",
    "    @abstractmethod\n",
    "    def turn_on(self):\n",
    "        pass\n",
    "\n",
    "    @abstractmethod\n",
    "    def turn_off(self):\n",
    "        pass\n",
    "\n",
    "class WashingMachine(Appliance):\n",
    "    def turn_on(self):\n",
    "        print(\"Washing machine is now ON. Washing clothes...\")\n",
    "\n",
    "    def turn_off(self):\n",
    "        print(\"Washing machine is now OFF.\")\n",
    "\n",
    "class Microwave(Appliance):\n",
    "    def turn_on(self):\n",
    "        print(\"Microwave is now ON. Heating food...\")\n",
    "\n",
    "    def turn_off(self):\n",
    "        print(\"Microwave is now OFF.\")\n",
    "\n",
    "\n",
    "wm = WashingMachine()\n",
    "wm.turn_on()\n",
    "wm.turn_off()\n",
    "\n",
    "mw = Microwave()\n",
    "mw.turn_on()\n",
    "mw.turn_off()\n"
   ]
  },
  {
   "cell_type": "markdown",
   "id": "80159fc3",
   "metadata": {},
   "source": [
    " All Pillars Combined:\n",
    "    Design classes for an online learning platform with:\n",
    "    Encapsulation in User class\n",
    "    Inheritance with Student and Instructor\n",
    "    Polymorphism using access_portal()\n",
    "    Abstraction with CourseMaterial class"
   ]
  },
  {
   "cell_type": "code",
   "execution_count": 2,
   "id": "1ad3abd6",
   "metadata": {},
   "outputs": [
    {
     "name": "stdout",
     "output_type": "stream",
     "text": [
      "user name Ali has id 9071\n",
      "user name Dr. Khan has id 1278\n",
      "Ali is accessing the student class\n",
      "Dr. Khan is accessing the instructor class\n",
      "uploading the lecture\n",
      "watching the lecture\n",
      "uploading the PDF Notes\n",
      "Viewing the PDF Notes\n"
     ]
    }
   ],
   "source": [
    "from abc import ABC,abstractmethod\n",
    "\n",
    "class user:\n",
    "    def __init__(self, name ,id):\n",
    "        self.name=name\n",
    "        self.id=id\n",
    "        print(f\"user name {self.name} has id {self.id}\")\n",
    "\n",
    "class student(user):\n",
    "    def access_portal(self):\n",
    "        print(f\"{self.name} is accessing the student class\")\n",
    "\n",
    "class instructor(user):\n",
    "    def access_portal(self):\n",
    "        print(f\"{self.name} is accessing the instructor class\")\n",
    "\n",
    "class CourseMaterial(ABC):\n",
    "    @abstractmethod\n",
    "    def upload(self):\n",
    "        pass\n",
    "\n",
    "    @abstractmethod\n",
    "    def view(self):\n",
    "        pass\n",
    "\n",
    "class lecture(CourseMaterial):\n",
    "    def upload(self):\n",
    "        print(\"uploading the lecture\")\n",
    "\n",
    "    def view(self):\n",
    "        print(\"watching the lecture\")\n",
    "\n",
    "class PDF_Notes(CourseMaterial):\n",
    "    def upload(self):\n",
    "        print(\"uploading the PDF Notes\")\n",
    "\n",
    "    def view(self):\n",
    "        print(\"Viewing the PDF Notes\")\n",
    "\n",
    "s = student(\"Ali\", \"9071\")\n",
    "i = instructor(\"Dr. Khan\", \"1278\")\n",
    "\n",
    "s.access_portal()   \n",
    "i.access_portal()   \n",
    "\n",
    "video = lecture()\n",
    "video.upload()      \n",
    "video.view()        \n",
    "\n",
    "notes = PDF_Notes()\n",
    "notes.upload()      \n",
    "notes.view()        \n",
    "\n"
   ]
  }
 ],
 "metadata": {
  "kernelspec": {
   "display_name": "Python 3",
   "language": "python",
   "name": "python3"
  },
  "language_info": {
   "codemirror_mode": {
    "name": "ipython",
    "version": 3
   },
   "file_extension": ".py",
   "mimetype": "text/x-python",
   "name": "python",
   "nbconvert_exporter": "python",
   "pygments_lexer": "ipython3",
   "version": "3.13.3"
  }
 },
 "nbformat": 4,
 "nbformat_minor": 5
}
